{
 "cells": [
  {
   "cell_type": "code",
   "execution_count": 2,
   "metadata": {},
   "outputs": [
    {
     "data": {
      "text/html": [
       "<style>\n",
       "        .checkbox-label-blue > .widget-label-basic {color: #0000DD; font-weight: bold;}\n",
       "        .checkbox-label-green > .widget-label-basic {color: #00BB00; font-weight: bold;}\n",
       "        .checkbox-label-red > .widget-label-basic {color: #DD0000; font-weight: bold;}\n",
       "        </style>"
      ],
      "text/plain": [
       "<IPython.core.display.HTML object>"
      ]
     },
     "metadata": {},
     "output_type": "display_data"
    },
    {
     "data": {
      "application/vnd.jupyter.widget-view+json": {
       "model_id": "38c84d304e054c5e9e9d447b9bcd82cb",
       "version_major": 2,
       "version_minor": 0
      },
      "text/plain": [
       "HBox(children=(VBox(children=(VBox(children=(HBox(children=(Label(value='MOSFET Parameters From Sentaurus', la…"
      ]
     },
     "metadata": {},
     "output_type": "display_data"
    }
   ],
   "source": [
    "%matplotlib widget\n",
    "import edp\n",
    "import importlib\n",
    "# force reload edp, used during development while modifying edp.py\n",
    "importlib.reload(edp)\n",
    "\n",
    "gui = edp.EDPGui()\n",
    "gui.display()"
   ]
  },
  {
   "cell_type": "code",
   "execution_count": null,
   "metadata": {},
   "outputs": [],
   "source": [
    "L_s = 50e-7\n",
    "t_s = 35e-7\n",
    "L_ox = 35e-7\n",
    "epsilon = 8.854e-14\n",
    "epsilon_ox = 3.7 * epsilon\n",
    "t_ox = 5e-7\n",
    "\n",
    "c_gs = (L_s * epsilon_ox)/t_s\n",
    "c_gc = (L_ox * epsilon_ox)/(t_ox/2)\n",
    "\n",
    "c_gc_orig = (L_ox * epsilon_ox)/5e-7\n",
    "\n",
    "c_gate = c_gs + c_gc\n",
    "\n",
    "ratio = c_gate/(c_gs + c_gc_orig)\n",
    "print(ratio)"
   ]
  }
 ],
 "metadata": {
  "kernelspec": {
   "display_name": "Python 3 (ipykernel)",
   "language": "python",
   "name": "python3"
  },
  "language_info": {
   "codemirror_mode": {
    "name": "ipython",
    "version": 3
   },
   "file_extension": ".py",
   "mimetype": "text/x-python",
   "name": "python",
   "nbconvert_exporter": "python",
   "pygments_lexer": "ipython3",
   "version": "3.9.12"
  },
  "latex_envs": {
   "LaTeX_envs_menu_present": true,
   "autoclose": false,
   "autocomplete": true,
   "bibliofile": "biblio.bib",
   "cite_by": "apalike",
   "current_citInitial": 1,
   "eqLabelWithNumbers": true,
   "eqNumInitial": 1,
   "hotkeys": {
    "equation": "Ctrl-E",
    "itemize": "Ctrl-I"
   },
   "labels_anchors": false,
   "latex_user_defs": false,
   "report_style_numbering": false,
   "user_envs_cfg": false
  }
 },
 "nbformat": 4,
 "nbformat_minor": 2
}
