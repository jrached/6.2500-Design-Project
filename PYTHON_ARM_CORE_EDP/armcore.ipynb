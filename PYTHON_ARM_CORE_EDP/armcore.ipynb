{
 "cells": [
  {
   "cell_type": "code",
   "execution_count": 3,
   "metadata": {},
   "outputs": [
    {
     "data": {
      "text/html": [
       "<style>\n",
       "        .checkbox-label-blue > .widget-label-basic {color: #0000DD; font-weight: bold;}\n",
       "        .checkbox-label-green > .widget-label-basic {color: #00BB00; font-weight: bold;}\n",
       "        .checkbox-label-red > .widget-label-basic {color: #DD0000; font-weight: bold;}\n",
       "        </style>"
      ],
      "text/plain": [
       "<IPython.core.display.HTML object>"
      ]
     },
     "metadata": {},
     "output_type": "display_data"
    },
    {
     "data": {
      "application/vnd.jupyter.widget-view+json": {
       "model_id": "0603479163344f11bfc7d59ffab7a1af",
       "version_major": 2,
       "version_minor": 0
      },
      "text/plain": [
       "HBox(children=(VBox(children=(VBox(children=(HBox(children=(Label(value='MOSFET Parameters From Sentaurus', la…"
      ]
     },
     "metadata": {},
     "output_type": "display_data"
    }
   ],
   "source": [
    "%matplotlib widget\n",
    "import edp\n",
    "import importlib\n",
    "# force reload edp, used during development while modifying edp.py\n",
    "importlib.reload(edp)\n",
    "\n",
    "gui = edp.EDPGui()\n",
    "gui.display()"
   ]
  },
  {
   "cell_type": "code",
   "execution_count": 24,
   "metadata": {},
   "outputs": [
    {
     "name": "stdout",
     "output_type": "stream",
     "text": [
      "C_normalized: 0.9164282045637978\n",
      "I_ON: 833.0\n",
      "I_OFF: 0.26689999999999997\n"
     ]
    },
    {
     "data": {
      "text/plain": [
       "'\\nNote: the best option multiplied the drain by 1.3 and left the source at 1.1\\n'"
      ]
     },
     "execution_count": 24,
     "metadata": {},
     "output_type": "execute_result"
    }
   ],
   "source": [
    "L_s = 50e-7\n",
    "t_s = 35e-7\n",
    "epsilon = 8.854e-14\n",
    "L_ox = 35e-7\n",
    "t_ox = 5e-7\n",
    "epsilon_ox = 3.7 * epsilon\n",
    "epsilon_s = 3.7 * epsilon\n",
    "\n",
    "c_gs = (L_s * epsilon_s)/(t_s*1.05)\n",
    "c_gc = (L_ox * epsilon_ox)/(t_ox*1.1)\n",
    "c_gate = c_gs + c_gc\n",
    "c_gate_orig = (35e-7*3.7*8.854e-14)/5e-7 + (50e-7*3.7*8.854e-14)/35e-7\n",
    "\n",
    "ratio = c_gate/(c_gate_orig)\n",
    "print(\"C_normalized: \" + str(ratio))\n",
    "\n",
    "i_on = 0.000833\n",
    "print(\"I_ON: \" + str(i_on/1e-6))\n",
    "\n",
    "i_off = 2.669e-10\n",
    "print(\"I_OFF: \" + str(i_off/1e-9))\n",
    "\n",
    "\"\"\"\n",
    "Note: the best option multiplied the drain by 1.3 and left the source at 1.1\n",
    "\"\"\""
   ]
  },
  {
   "cell_type": "code",
   "execution_count": null,
   "metadata": {},
   "outputs": [],
   "source": []
  }
 ],
 "metadata": {
  "kernelspec": {
   "display_name": "Python 3 (ipykernel)",
   "language": "python",
   "name": "python3"
  },
  "language_info": {
   "codemirror_mode": {
    "name": "ipython",
    "version": 3
   },
   "file_extension": ".py",
   "mimetype": "text/x-python",
   "name": "python",
   "nbconvert_exporter": "python",
   "pygments_lexer": "ipython3",
   "version": "3.9.12"
  },
  "latex_envs": {
   "LaTeX_envs_menu_present": true,
   "autoclose": false,
   "autocomplete": true,
   "bibliofile": "biblio.bib",
   "cite_by": "apalike",
   "current_citInitial": 1,
   "eqLabelWithNumbers": true,
   "eqNumInitial": 1,
   "hotkeys": {
    "equation": "Ctrl-E",
    "itemize": "Ctrl-I"
   },
   "labels_anchors": false,
   "latex_user_defs": false,
   "report_style_numbering": false,
   "user_envs_cfg": false
  }
 },
 "nbformat": 4,
 "nbformat_minor": 2
}
